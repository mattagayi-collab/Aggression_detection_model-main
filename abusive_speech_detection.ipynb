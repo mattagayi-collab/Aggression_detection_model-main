{
  "nbformat": 4,
  "nbformat_minor": 0,
  "metadata": {
    "colab": {
      "name": "abusive-speech-detection.ipynb",
      "provenance": [],
      "collapsed_sections": [],
      "authorship_tag": "ABX9TyOpVnLsndUGW/VMvJHIJh1E",
      "include_colab_link": true
    },
    "kernelspec": {
      "name": "python3",
      "display_name": "Python 3"
    },
    "language_info": {
      "name": "python"
    }
  },
  "cells": [
    {
      "cell_type": "markdown",
      "metadata": {
        "id": "view-in-github",
        "colab_type": "text"
      },
      "source": [
        "<a href=\"https://colab.research.google.com/github/hate-speech-classification/abusive-level-classification/blob/main/abusive_speech_detection.ipynb\" target=\"_parent\"><img src=\"https://colab.research.google.com/assets/colab-badge.svg\" alt=\"Open In Colab\"/></a>"
      ]
    },
    {
      "cell_type": "code",
      "execution_count": 4,
      "metadata": {
        "colab": {
          "base_uri": "https://localhost:8080/"
        },
        "id": "sLBHplZdXhe_",
        "outputId": "a4f09b45-1f37-45d0-f2e0-6e3665163f43"
      },
      "outputs": [
        {
          "output_type": "stream",
          "name": "stdout",
          "text": [
            "[nltk_data] Downloading package stopwords to /root/nltk_data...\n",
            "[nltk_data]   Unzipping corpora/stopwords.zip.\n"
          ]
        }
      ],
      "source": [
        "\"\"\"\n",
        "Init\n",
        "\"\"\"\n",
        "import logging\n",
        "import pandas as pd\n",
        "import numpy as np\n",
        "from numpy import random\n",
        "import gensim\n",
        "import nltk\n",
        "from sklearn.model_selection import train_test_split\n",
        "from sklearn.feature_extraction.text import CountVectorizer, TfidfVectorizer\n",
        "from sklearn.metrics import accuracy_score, confusion_matrix\n",
        "import matplotlib.pyplot as plt\n",
        "nltk.download('stopwords')\n",
        "from nltk.corpus import stopwords\n",
        "import re\n",
        "from bs4 import BeautifulSoup\n",
        "%matplotlib inline\n",
        "# Import necessary modules\n",
        "from sklearn.model_selection import train_test_split\n",
        "from sklearn.metrics import mean_squared_error\n",
        "from math import sqrt\n",
        "from sklearn import model_selection\n",
        "from sklearn.linear_model import LogisticRegression\n",
        "from sklearn.model_selection import KFold\n",
        "from sklearn.model_selection import LeaveOneOut\n",
        "from sklearn.model_selection import LeavePOut\n",
        "from sklearn.model_selection import ShuffleSplit\n",
        "from sklearn.model_selection import StratifiedKFold"
      ]
    },
    {
      "cell_type": "code",
      "source": [
        "\"\"\"\n",
        "Create new column labels\n",
        "\"\"\"\n",
        "def categorise(row):\n",
        "  if row['Annotator1_is_abuse.1'] == '1':\n",
        "    return 'Not abusive'\n",
        "  elif row['Annotator1_is_abuse.0'] == '1':\n",
        "    return \"Ambiguous\"\n",
        "  elif row['Annotator1_is_abuse.-1'] == '1':\n",
        "    return \"Mildly abusive\"\n",
        "  elif row['Annotator1_is_abuse.-2'] == '1':\n",
        "    return \"Strongly abusive\"\n",
        "  elif row['Annotator1_is_abuse.-3'] == '1':\n",
        "    return \"Very strongly abusive\"\n"
      ],
      "metadata": {
        "id": "fDjqnPHcXs4I"
      },
      "execution_count": 24,
      "outputs": []
    },
    {
      "cell_type": "code",
      "source": [
        "\"\"\"\n",
        "Clean text (user column)\n",
        "\"\"\"\n",
        "REPLACE_BY_SPACE_RE = re.compile('[/(){}\\[\\]\\|@,;]')\n",
        "BAD_SYMBOLS_RE = re.compile('[^0-9a-z #+_]')\n",
        "STOPWORDS = set(stopwords.words('english'))\n",
        "\n",
        "def clean_text(text):\n",
        "    \"\"\"\n",
        "        text: a string\n",
        "        \n",
        "        return: modified initial string\n",
        "    \"\"\"\n",
        "    text = BeautifulSoup(text, \"lxml\").text # HTML decoding\n",
        "    text = text.lower() # lowercase text\n",
        "    text = REPLACE_BY_SPACE_RE.sub(' ', text) # replace REPLACE_BY_SPACE_RE symbols by space in text\n",
        "    text = BAD_SYMBOLS_RE.sub('', text) # delete symbols which are in BAD_SYMBOLS_RE from text\n",
        "    text = ' '.join(word for word in text.split() if word not in STOPWORDS) # delete stopwors from text\n",
        "    return text\n"
      ],
      "metadata": {
        "id": "RuBvcSA-e3YU"
      },
      "execution_count": 25,
      "outputs": []
    },
    {
      "cell_type": "code",
      "source": [
        "\"\"\"\n",
        "MAIN MODEL IMPLEMENTATION\n",
        "-------------------------------------------\n",
        "NLP ALGO: TFIDF\n",
        "MODEL: Linear Support Vector Machine\n",
        "VALIDATION METHOD: kFold\n",
        "\"\"\"\n",
        "from sklearn.pipeline import Pipeline\n",
        "from sklearn.feature_extraction.text import CountVectorizer\n",
        "from sklearn.feature_extraction.text import TfidfTransformer\n",
        "from sklearn.linear_model import SGDClassifier\n",
        "def predict_abusive_level(userInput):\n",
        "  url_train_data = 'https://raw.githubusercontent.com/amandacurry/convabuse/main/2_splits/ConvAbuseEMNLPtrain.csv'\n",
        "  df = pd.read_csv(url_train_data)\n",
        "  my_tags = ['Not abusive', 'Ambiguous', 'Midly abusive', 'Strongly abusive', 'Very strongly abusive']\n",
        "  df['abusive_level'] = df.apply(lambda row: categorise(row), axis=1) \n",
        "  df = df[pd.notnull(df['abusive_level'])]\n",
        "  df['user'] = df['user'].apply(clean_text)\n",
        "  data = df[['user','abusive_level']]\n",
        "  X = data.user\n",
        "  Y = data.abusive_level\n",
        "  kfold = KFold(n_splits=10, random_state=100, shuffle=True)\n",
        "  sgd = Pipeline([('vect', CountVectorizer()),\n",
        "                ('tfidf', TfidfTransformer()),\n",
        "                ('clf', SGDClassifier(loss='hinge', penalty='l2',alpha=1e-3, random_state=42, max_iter=5, tol=None)),\n",
        "               ])\n",
        "  ml = sgd.fit(X, Y)\n",
        "  print(ml.predict([userInput]))"
      ],
      "metadata": {
        "id": "RSoVXLtToBqS"
      },
      "execution_count": 61,
      "outputs": []
    },
    {
      "cell_type": "code",
      "source": [
        "predict_abusive_level(\"I hope you die\")\n"
      ],
      "metadata": {
        "id": "f1vSaGxKptwE",
        "outputId": "0e3396c6-272d-41bf-aae0-beaca5fab33f",
        "colab": {
          "base_uri": "https://localhost:8080/"
        }
      },
      "execution_count": 66,
      "outputs": [
        {
          "output_type": "stream",
          "name": "stdout",
          "text": [
            "['Very strongly abusive']\n"
          ]
        }
      ]
    }
  ]
}